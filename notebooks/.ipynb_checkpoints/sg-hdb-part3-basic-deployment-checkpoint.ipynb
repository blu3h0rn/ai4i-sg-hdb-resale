{
 "cells": [
  {
   "cell_type": "markdown",
   "metadata": {},
   "source": [
    "<img src=\"https://gallery.mailchimp.com/f98d5ac0a3fbbdcdda35136ab/images/2002af76-5fd4-4185-9d49-28558b6b8772.png\">"
   ]
  },
  {
   "cell_type": "markdown",
   "metadata": {},
   "source": [
    "# `sg-hdb-resale-bokeh` \n",
    "# Part 3: Basic Model Deployment\n",
    "After all that we have done, exporting as well as serialising the model, now, we create a REST API to deploy our predictive model!\n",
    "\n",
    "Create a Python script on the Azure Notebook project and copy the contents of the cell below into it."
   ]
  },
  {
   "cell_type": "code",
   "execution_count": null,
   "metadata": {},
   "outputs": [],
   "source": [
    "\"\"\"\n",
    "DO NOT RUN THIS CELL!\n",
    "\"\"\"\n",
    "\n",
    "from flask import Flask\n",
    "from flask_restful import reqparse, Api, Resource\n",
    "import pickle\n",
    "import numpy as np\n",
    "\n",
    "app = Flask(__name__)\n",
    "api = Api(app)\n",
    "\n",
    "# specify location of pickled model and load it\n",
    "file_loc_name = '../models/sg_hdb_lm_v1.pkl'\n",
    "sg_hdb_loaded_model = pickle.load(open(file_loc_name, 'rb'))\n",
    "\n",
    "# argument parsing\n",
    "parser = reqparse.RequestParser()\n",
    "parser.add_argument('query')\n",
    "\n",
    "class PredictResalePrice(Resource):\n",
    "    def get(self):\n",
    "\n",
    "        # use parser and find the user's query\n",
    "        args = parser.parse_args()\n",
    "        user_query = args['query']\n",
    "        \n",
    "        user_floor_area_sqm = np.array(float(user_query))\n",
    "        user_floor_area_sqm_reshaped = user_floor_area_sqm.reshape(-1, 1)\n",
    "        user_resale_price = sg_hdb_loaded_model.predict(user_floor_area_sqm_reshaped)\n",
    "\n",
    "        # create JSON object\n",
    "        output = {'prediction': user_resale_price[0]}\n",
    "        #output = user_resale_price\n",
    "        \n",
    "        return output\n",
    "\n",
    "# Setup the API resource routing here\n",
    "# Route the URL to the resource\n",
    "api.add_resource(PredictResalePrice, '/')\n",
    "\n",
    "if __name__ == \"__main__\":\n",
    "    app.run(debug=True)"
   ]
  },
  {
   "cell_type": "markdown",
   "metadata": {},
   "source": [
    "After creating the script (you can name it `sg-hdb-basic-deployment.py`), run the following cell."
   ]
  },
  {
   "cell_type": "code",
   "execution_count": null,
   "metadata": {},
   "outputs": [],
   "source": []
  },
  {
   "cell_type": "markdown",
   "metadata": {},
   "source": [
    "After running the cell above, we now make a request to the initialised API to get a prediction. Open up a terminal through Azure and run the following line:\n",
    "\n",
    "```shell\n",
    "curl -X GET http://127.0.0.1:5000/ -d query=65\n",
    "```\n",
    "\n",
    "An output shall be returned to you, containing the predicted resale price in response to the query you have provided.\n",
    "\n",
    "As you can see, we have deployed the model to an API server (albeit a locally hosted one) and successfully submitted a query which in turn we get a response!\n",
    "\n",
    "With that, we have come to the end of the workshop! Thank you for your participation thus far!\n",
    "\n",
    "<font color=\"blue\"><h1><center>The End</center></h1></font>"
   ]
  }
 ],
 "metadata": {
  "kernelspec": {
   "display_name": "Python 3",
   "language": "python",
   "name": "python3"
  },
  "language_info": {
   "codemirror_mode": {
    "name": "ipython",
    "version": 3
   },
   "file_extension": ".py",
   "mimetype": "text/x-python",
   "name": "python",
   "nbconvert_exporter": "python",
   "pygments_lexer": "ipython3",
   "version": "3.7.2"
  }
 },
 "nbformat": 4,
 "nbformat_minor": 2
}
