{
 "cells": [
  {
   "cell_type": "markdown",
   "metadata": {},
   "source": [
    "<img src=\"https://gallery.mailchimp.com/f98d5ac0a3fbbdcdda35136ab/images/2002af76-5fd4-4185-9d49-28558b6b8772.png\">"
   ]
  },
  {
   "cell_type": "markdown",
   "metadata": {},
   "source": [
    "# `sg-hdb-resale-bokeh` \n",
    "# Part 3: Basic Model Deployment\n",
    "After all that we have done, exporting as well as serialising the model, now, we create a REST API to deploy our predictive model!"
   ]
  },
  {
   "cell_type": "code",
   "execution_count": null,
   "metadata": {},
   "outputs": [],
   "source": [
    "from flask import Flask\n",
    "from flask_restful import reqparse, Api, Resource\n",
    "import pickle\n",
    "import numpy as np\n",
    "\n",
    "app = Flask(__name__)\n",
    "api = Api(app)\n",
    "\n",
    "# specify location of pickled model and load it\n",
    "file_loc_name = '/path/to/pkl/file'\n",
    "sg_hdb_loaded_model = pickle.load(open(file_loc_name, 'rb'))\n",
    "\n",
    "# argument parsing\n",
    "parser = reqparse.RequestParser()\n",
    "parser.add_argument('query')\n",
    "\n",
    "class PredictResalePrice(Resource):\n",
    "    def get(self):\n",
    "\n",
    "        # use parser and find the user's query\n",
    "        args = parser.parse_args()\n",
    "        user_query = args['query']\n",
    "        \n",
    "        user_floor_area_sqm = np.array(float(user_query))\n",
    "        user_floor_area_sqm_reshaped = user_floor_area_sqm.reshape(-1, 1)\n",
    "        user_resale_price = sg_hdb_loaded_model.predict(user_floor_area_sqm_reshaped)\n",
    "\n",
    "        # create JSON object\n",
    "        output = {'prediction': user_resale_price[0]}\n",
    "        #output = user_resale_price\n",
    "        \n",
    "        return output\n",
    "\n",
    "# Setup the API resource routing here\n",
    "# Route the URL to the resource\n",
    "api.add_resource(PredictResalePrice, '/')\n",
    "\n",
    "if __name__ == \"__main__\":\n",
    "    app.run(debug=True)"
   ]
  },
  {
   "cell_type": "markdown",
   "metadata": {},
   "source": [
    "After running the above program, we now make a request to the initialised API to get a prediction."
   ]
  },
  {
   "cell_type": "code",
   "execution_count": null,
   "metadata": {},
   "outputs": [],
   "source": [
    "!curl -X GET http://127.0.0.1:5000/ -d query=65"
   ]
  },
  {
   "cell_type": "markdown",
   "metadata": {},
   "source": [
    "As you can see, we have deployed the model to an API server (albeit a locally hosted one) and successfully submitted a query which in turn we get a response!\n",
    "\n",
    "With that, we have come to the end of the workshop! Thank you for your participation thus far!\n",
    "\n",
    "<font color=\"blue\"><h1><center>The End</center></h1></font>"
   ]
  }
 ],
 "metadata": {
  "kernelspec": {
   "display_name": "Python 3",
   "language": "python",
   "name": "python3"
  },
  "language_info": {
   "codemirror_mode": {
    "name": "ipython",
    "version": 3
   },
   "file_extension": ".py",
   "mimetype": "text/x-python",
   "name": "python",
   "nbconvert_exporter": "python",
   "pygments_lexer": "ipython3",
   "version": "3.6.5"
  }
 },
 "nbformat": 4,
 "nbformat_minor": 2
}
